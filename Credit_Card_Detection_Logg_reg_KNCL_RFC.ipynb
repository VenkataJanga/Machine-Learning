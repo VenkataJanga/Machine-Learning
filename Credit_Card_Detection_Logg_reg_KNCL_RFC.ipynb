{
  "nbformat": 4,
  "nbformat_minor": 0,
  "metadata": {
    "colab": {
      "name": "Credit Card Detection_Logg_reg_KNCL_RFC",
      "provenance": [],
      "include_colab_link": true
    },
    "kernelspec": {
      "name": "python3",
      "display_name": "Python 3"
    }
  },
  "cells": [
    {
      "cell_type": "markdown",
      "metadata": {
        "id": "view-in-github",
        "colab_type": "text"
      },
      "source": [
        "<a href=\"https://colab.research.google.com/github/VenkataJanga/Machine-Learning/blob/master/Credit_Card_Detection_Logg_reg_KNCL_RFC.ipynb\" target=\"_parent\"><img src=\"https://colab.research.google.com/assets/colab-badge.svg\" alt=\"Open In Colab\"/></a>"
      ]
    },
    {
      "cell_type": "code",
      "metadata": {
        "id": "wXRYnvBlsDpu",
        "colab_type": "code",
        "colab": {}
      },
      "source": [
        "import pandas as pd\n",
        "from matplotlib import pyplot as plt\n",
        "import seaborn as sns\n",
        "\n",
        "from sklearn.model_selection import train_test_split\n",
        "from sklearn.metrics import classification_report,accuracy_score\n",
        "from sklearn.ensemble import IsolationForest\n",
        "from sklearn.neighbors import LocalOutlierFactor\n",
        "from sklearn.metrics import confusion_matrix,accuracy_score,precision_score,recall_score,roc_auc_score,roc_curve"
      ],
      "execution_count": 0,
      "outputs": []
    },
    {
      "cell_type": "code",
      "metadata": {
        "id": "soW8Pz8-sJfq",
        "colab_type": "code",
        "colab": {}
      },
      "source": [
        "cr_data = pd.read_csv('creditcard.csv')\n"
      ],
      "execution_count": 0,
      "outputs": []
    },
    {
      "cell_type": "code",
      "metadata": {
        "colab_type": "code",
        "id": "yUbMBmj7sflQ",
        "colab": {
          "base_uri": "https://localhost:8080/",
          "height": 217
        },
        "outputId": "ce589123-d840-45ab-edc1-9a7410c75f5b"
      },
      "source": [
        "cr_data.head()"
      ],
      "execution_count": 8,
      "outputs": [
        {
          "output_type": "execute_result",
          "data": {
            "text/html": [
              "<div>\n",
              "<style scoped>\n",
              "    .dataframe tbody tr th:only-of-type {\n",
              "        vertical-align: middle;\n",
              "    }\n",
              "\n",
              "    .dataframe tbody tr th {\n",
              "        vertical-align: top;\n",
              "    }\n",
              "\n",
              "    .dataframe thead th {\n",
              "        text-align: right;\n",
              "    }\n",
              "</style>\n",
              "<table border=\"1\" class=\"dataframe\">\n",
              "  <thead>\n",
              "    <tr style=\"text-align: right;\">\n",
              "      <th></th>\n",
              "      <th>Time</th>\n",
              "      <th>V1</th>\n",
              "      <th>V2</th>\n",
              "      <th>V3</th>\n",
              "      <th>V4</th>\n",
              "      <th>V5</th>\n",
              "      <th>V6</th>\n",
              "      <th>V7</th>\n",
              "      <th>V8</th>\n",
              "      <th>V9</th>\n",
              "      <th>V10</th>\n",
              "      <th>V11</th>\n",
              "      <th>V12</th>\n",
              "      <th>V13</th>\n",
              "      <th>V14</th>\n",
              "      <th>V15</th>\n",
              "      <th>V16</th>\n",
              "      <th>V17</th>\n",
              "      <th>V18</th>\n",
              "      <th>V19</th>\n",
              "      <th>V20</th>\n",
              "      <th>V21</th>\n",
              "      <th>V22</th>\n",
              "      <th>V23</th>\n",
              "      <th>V24</th>\n",
              "      <th>V25</th>\n",
              "      <th>V26</th>\n",
              "      <th>V27</th>\n",
              "      <th>V28</th>\n",
              "      <th>Amount</th>\n",
              "      <th>Class</th>\n",
              "    </tr>\n",
              "  </thead>\n",
              "  <tbody>\n",
              "    <tr>\n",
              "      <th>0</th>\n",
              "      <td>0</td>\n",
              "      <td>-1.359807</td>\n",
              "      <td>-0.072781</td>\n",
              "      <td>2.536347</td>\n",
              "      <td>1.378155</td>\n",
              "      <td>-0.338321</td>\n",
              "      <td>0.462388</td>\n",
              "      <td>0.239599</td>\n",
              "      <td>0.098698</td>\n",
              "      <td>0.363787</td>\n",
              "      <td>0.090794</td>\n",
              "      <td>-0.551600</td>\n",
              "      <td>-0.617801</td>\n",
              "      <td>-0.991390</td>\n",
              "      <td>-0.311169</td>\n",
              "      <td>1.468177</td>\n",
              "      <td>-0.470401</td>\n",
              "      <td>0.207971</td>\n",
              "      <td>0.025791</td>\n",
              "      <td>0.403993</td>\n",
              "      <td>0.251412</td>\n",
              "      <td>-0.018307</td>\n",
              "      <td>0.277838</td>\n",
              "      <td>-0.110474</td>\n",
              "      <td>0.066928</td>\n",
              "      <td>0.128539</td>\n",
              "      <td>-0.189115</td>\n",
              "      <td>0.133558</td>\n",
              "      <td>-0.021053</td>\n",
              "      <td>149.62</td>\n",
              "      <td>0.0</td>\n",
              "    </tr>\n",
              "    <tr>\n",
              "      <th>1</th>\n",
              "      <td>0</td>\n",
              "      <td>1.191857</td>\n",
              "      <td>0.266151</td>\n",
              "      <td>0.166480</td>\n",
              "      <td>0.448154</td>\n",
              "      <td>0.060018</td>\n",
              "      <td>-0.082361</td>\n",
              "      <td>-0.078803</td>\n",
              "      <td>0.085102</td>\n",
              "      <td>-0.255425</td>\n",
              "      <td>-0.166974</td>\n",
              "      <td>1.612727</td>\n",
              "      <td>1.065235</td>\n",
              "      <td>0.489095</td>\n",
              "      <td>-0.143772</td>\n",
              "      <td>0.635558</td>\n",
              "      <td>0.463917</td>\n",
              "      <td>-0.114805</td>\n",
              "      <td>-0.183361</td>\n",
              "      <td>-0.145783</td>\n",
              "      <td>-0.069083</td>\n",
              "      <td>-0.225775</td>\n",
              "      <td>-0.638672</td>\n",
              "      <td>0.101288</td>\n",
              "      <td>-0.339846</td>\n",
              "      <td>0.167170</td>\n",
              "      <td>0.125895</td>\n",
              "      <td>-0.008983</td>\n",
              "      <td>0.014724</td>\n",
              "      <td>2.69</td>\n",
              "      <td>0.0</td>\n",
              "    </tr>\n",
              "    <tr>\n",
              "      <th>2</th>\n",
              "      <td>1</td>\n",
              "      <td>-1.358354</td>\n",
              "      <td>-1.340163</td>\n",
              "      <td>1.773209</td>\n",
              "      <td>0.379780</td>\n",
              "      <td>-0.503198</td>\n",
              "      <td>1.800499</td>\n",
              "      <td>0.791461</td>\n",
              "      <td>0.247676</td>\n",
              "      <td>-1.514654</td>\n",
              "      <td>0.207643</td>\n",
              "      <td>0.624501</td>\n",
              "      <td>0.066084</td>\n",
              "      <td>0.717293</td>\n",
              "      <td>-0.165946</td>\n",
              "      <td>2.345865</td>\n",
              "      <td>-2.890083</td>\n",
              "      <td>1.109969</td>\n",
              "      <td>-0.121359</td>\n",
              "      <td>-2.261857</td>\n",
              "      <td>0.524980</td>\n",
              "      <td>0.247998</td>\n",
              "      <td>0.771679</td>\n",
              "      <td>0.909412</td>\n",
              "      <td>-0.689281</td>\n",
              "      <td>-0.327642</td>\n",
              "      <td>-0.139097</td>\n",
              "      <td>-0.055353</td>\n",
              "      <td>-0.059752</td>\n",
              "      <td>378.66</td>\n",
              "      <td>0.0</td>\n",
              "    </tr>\n",
              "    <tr>\n",
              "      <th>3</th>\n",
              "      <td>1</td>\n",
              "      <td>-0.966272</td>\n",
              "      <td>-0.185226</td>\n",
              "      <td>1.792993</td>\n",
              "      <td>-0.863291</td>\n",
              "      <td>-0.010309</td>\n",
              "      <td>1.247203</td>\n",
              "      <td>0.237609</td>\n",
              "      <td>0.377436</td>\n",
              "      <td>-1.387024</td>\n",
              "      <td>-0.054952</td>\n",
              "      <td>-0.226487</td>\n",
              "      <td>0.178228</td>\n",
              "      <td>0.507757</td>\n",
              "      <td>-0.287924</td>\n",
              "      <td>-0.631418</td>\n",
              "      <td>-1.059647</td>\n",
              "      <td>-0.684093</td>\n",
              "      <td>1.965775</td>\n",
              "      <td>-1.232622</td>\n",
              "      <td>-0.208038</td>\n",
              "      <td>-0.108300</td>\n",
              "      <td>0.005274</td>\n",
              "      <td>-0.190321</td>\n",
              "      <td>-1.175575</td>\n",
              "      <td>0.647376</td>\n",
              "      <td>-0.221929</td>\n",
              "      <td>0.062723</td>\n",
              "      <td>0.061458</td>\n",
              "      <td>123.50</td>\n",
              "      <td>0.0</td>\n",
              "    </tr>\n",
              "    <tr>\n",
              "      <th>4</th>\n",
              "      <td>2</td>\n",
              "      <td>-1.158233</td>\n",
              "      <td>0.877737</td>\n",
              "      <td>1.548718</td>\n",
              "      <td>0.403034</td>\n",
              "      <td>-0.407193</td>\n",
              "      <td>0.095921</td>\n",
              "      <td>0.592941</td>\n",
              "      <td>-0.270533</td>\n",
              "      <td>0.817739</td>\n",
              "      <td>0.753074</td>\n",
              "      <td>-0.822843</td>\n",
              "      <td>0.538196</td>\n",
              "      <td>1.345852</td>\n",
              "      <td>-1.119670</td>\n",
              "      <td>0.175121</td>\n",
              "      <td>-0.451449</td>\n",
              "      <td>-0.237033</td>\n",
              "      <td>-0.038195</td>\n",
              "      <td>0.803487</td>\n",
              "      <td>0.408542</td>\n",
              "      <td>-0.009431</td>\n",
              "      <td>0.798278</td>\n",
              "      <td>-0.137458</td>\n",
              "      <td>0.141267</td>\n",
              "      <td>-0.206010</td>\n",
              "      <td>0.502292</td>\n",
              "      <td>0.219422</td>\n",
              "      <td>0.215153</td>\n",
              "      <td>69.99</td>\n",
              "      <td>0.0</td>\n",
              "    </tr>\n",
              "  </tbody>\n",
              "</table>\n",
              "</div>"
            ],
            "text/plain": [
              "   Time        V1        V2        V3  ...       V27       V28  Amount  Class\n",
              "0     0 -1.359807 -0.072781  2.536347  ...  0.133558 -0.021053  149.62    0.0\n",
              "1     0  1.191857  0.266151  0.166480  ... -0.008983  0.014724    2.69    0.0\n",
              "2     1 -1.358354 -1.340163  1.773209  ... -0.055353 -0.059752  378.66    0.0\n",
              "3     1 -0.966272 -0.185226  1.792993  ...  0.062723  0.061458  123.50    0.0\n",
              "4     2 -1.158233  0.877737  1.548718  ...  0.219422  0.215153   69.99    0.0\n",
              "\n",
              "[5 rows x 31 columns]"
            ]
          },
          "metadata": {
            "tags": []
          },
          "execution_count": 8
        }
      ]
    },
    {
      "cell_type": "code",
      "metadata": {
        "id": "qI8W46VMsWCF",
        "colab_type": "code",
        "colab": {
          "base_uri": "https://localhost:8080/",
          "height": 656
        },
        "outputId": "242222a6-36c5-4e98-d0a8-52f33a688e4d"
      },
      "source": [
        "#Explore the Data set\n",
        "cr_data.info()"
      ],
      "execution_count": 9,
      "outputs": [
        {
          "output_type": "stream",
          "text": [
            "<class 'pandas.core.frame.DataFrame'>\n",
            "RangeIndex: 15936 entries, 0 to 15935\n",
            "Data columns (total 31 columns):\n",
            "Time      15936 non-null int64\n",
            "V1        15936 non-null float64\n",
            "V2        15936 non-null float64\n",
            "V3        15936 non-null float64\n",
            "V4        15936 non-null float64\n",
            "V5        15936 non-null float64\n",
            "V6        15936 non-null float64\n",
            "V7        15936 non-null float64\n",
            "V8        15936 non-null float64\n",
            "V9        15936 non-null float64\n",
            "V10       15936 non-null float64\n",
            "V11       15936 non-null float64\n",
            "V12       15936 non-null float64\n",
            "V13       15936 non-null float64\n",
            "V14       15936 non-null float64\n",
            "V15       15936 non-null float64\n",
            "V16       15936 non-null float64\n",
            "V17       15936 non-null float64\n",
            "V18       15936 non-null float64\n",
            "V19       15936 non-null float64\n",
            "V20       15936 non-null float64\n",
            "V21       15936 non-null float64\n",
            "V22       15936 non-null float64\n",
            "V23       15935 non-null float64\n",
            "V24       15935 non-null float64\n",
            "V25       15935 non-null float64\n",
            "V26       15935 non-null float64\n",
            "V27       15935 non-null float64\n",
            "V28       15935 non-null float64\n",
            "Amount    15935 non-null float64\n",
            "Class     15935 non-null float64\n",
            "dtypes: float64(30), int64(1)\n",
            "memory usage: 3.8 MB\n"
          ],
          "name": "stdout"
        }
      ]
    },
    {
      "cell_type": "code",
      "metadata": {
        "id": "4K5w35ZWspju",
        "colab_type": "code",
        "colab": {
          "base_uri": "https://localhost:8080/",
          "height": 105
        },
        "outputId": "4405bc5f-d5b3-445b-c7e9-af76866b67fd"
      },
      "source": [
        "cr_data.columns"
      ],
      "execution_count": 10,
      "outputs": [
        {
          "output_type": "execute_result",
          "data": {
            "text/plain": [
              "Index(['Time', 'V1', 'V2', 'V3', 'V4', 'V5', 'V6', 'V7', 'V8', 'V9', 'V10',\n",
              "       'V11', 'V12', 'V13', 'V14', 'V15', 'V16', 'V17', 'V18', 'V19', 'V20',\n",
              "       'V21', 'V22', 'V23', 'V24', 'V25', 'V26', 'V27', 'V28', 'Amount',\n",
              "       'Class'],\n",
              "      dtype='object')"
            ]
          },
          "metadata": {
            "tags": []
          },
          "execution_count": 10
        }
      ]
    },
    {
      "cell_type": "code",
      "metadata": {
        "id": "HQ42OXrcsuy-",
        "colab_type": "code",
        "colab": {
          "base_uri": "https://localhost:8080/",
          "height": 34
        },
        "outputId": "f2049257-8f03-40e6-b412-58c95296839d"
      },
      "source": [
        "print(cr_data.shape)"
      ],
      "execution_count": 11,
      "outputs": [
        {
          "output_type": "stream",
          "text": [
            "(15936, 31)\n"
          ],
          "name": "stdout"
        }
      ]
    },
    {
      "cell_type": "code",
      "metadata": {
        "id": "dKtzXXpos7t1",
        "colab_type": "code",
        "colab": {
          "base_uri": "https://localhost:8080/",
          "height": 212
        },
        "outputId": "a3f471eb-34f8-45a4-aed5-af9388c1e057"
      },
      "source": [
        "print(cr_data.describe())"
      ],
      "execution_count": 12,
      "outputs": [
        {
          "output_type": "stream",
          "text": [
            "               Time            V1  ...        Amount         Class\n",
            "count  15936.000000  15936.000000  ...  15935.000000  15935.000000\n",
            "mean   12121.217871     -0.254293  ...     66.390222      0.004581\n",
            "std     8982.283843      1.843083  ...    189.355098      0.067531\n",
            "min        0.000000    -28.344757  ...      0.000000      0.000000\n",
            "25%     3633.500000     -0.970824  ...      5.490000      0.000000\n",
            "50%    10980.000000     -0.318478  ...     15.950000      0.000000\n",
            "75%    20621.500000      1.161949  ...     53.890000      0.000000\n",
            "max    27371.000000      1.960497  ...   7712.430000      1.000000\n",
            "\n",
            "[8 rows x 31 columns]\n"
          ],
          "name": "stdout"
        }
      ]
    },
    {
      "cell_type": "code",
      "metadata": {
        "id": "nhP37sqXtAoZ",
        "colab_type": "code",
        "colab": {}
      },
      "source": [
        "# its huge data set so we i am doing analyse for sample data from dataset\n",
        "data = cr_data.sample(frac= 0.1, random_state = 1)"
      ],
      "execution_count": 0,
      "outputs": []
    },
    {
      "cell_type": "code",
      "metadata": {
        "id": "V1L3WdmKtv9W",
        "colab_type": "code",
        "colab": {
          "base_uri": "https://localhost:8080/",
          "height": 34
        },
        "outputId": "043d9338-ea5a-46e0-b9af-8ac7e158eb34"
      },
      "source": [
        "print(data.shape)"
      ],
      "execution_count": 15,
      "outputs": [
        {
          "output_type": "stream",
          "text": [
            "(1594, 31)\n"
          ],
          "name": "stdout"
        }
      ]
    },
    {
      "cell_type": "code",
      "metadata": {
        "id": "jm3kHjg2t4Wi",
        "colab_type": "code",
        "colab": {
          "base_uri": "https://localhost:8080/",
          "height": 1000
        },
        "outputId": "751c0b14-51a9-4e5e-d4e8-554d6878c233"
      },
      "source": [
        "# plot histgram for each parameter\n",
        "data.hist(figsize=(20,20))\n",
        "plt.show()"
      ],
      "execution_count": 19,
      "outputs": [
        {
          "output_type": "display_data",
          "data": {
            "image/png": "[encoded data removed]",
            "text/plain": [
              "<Figure size 1440x1440 with 36 Axes>"
            ]
          },
          "metadata": {
            "tags": []
          }
        }
      ]
    },
    {
      "cell_type": "code",
      "metadata": {
        "id": "wJcu2_cEuN63",
        "colab_type": "code",
        "colab": {
          "base_uri": "https://localhost:8080/",
          "height": 70
        },
        "outputId": "99f684b6-5e05-4a5e-ba1b-bfa1aceb6703"
      },
      "source": [
        "# determine the number of fraut cases in data sets\n",
        "data['Class'].value_counts()"
      ],
      "execution_count": 22,
      "outputs": [
        {
          "output_type": "execute_result",
          "data": {
            "text/plain": [
              "0.0    1585\n",
              "1.0       9\n",
              "Name: Class, dtype: int64"
            ]
          },
          "metadata": {
            "tags": []
          },
          "execution_count": 22
        }
      ]
    },
    {
      "cell_type": "code",
      "metadata": {
        "id": "7a6Rz_hIu5I7",
        "colab_type": "code",
        "colab": {
          "base_uri": "https://localhost:8080/",
          "height": 70
        },
        "outputId": "43a027c5-9ba9-40de-9aae-a801de0bfcf3"
      },
      "source": [
        "fraud_cases = data[data['Class']==0]\n",
        "valid_cases = data[data['Class']==1]\n",
        "outlier_fraction = len(fraud_cases) / float(len(valid_cases))\n",
        "print(outlier_fraction)\n",
        "\n",
        "print('Fraud Cases {}'.format(len(fraud_cases)))\n",
        "print('Valid Cases {}'.format(len(valid_cases)))"
      ],
      "execution_count": 25,
      "outputs": [
        {
          "output_type": "stream",
          "text": [
            "176.11111111111111\n",
            "Fraud Cases 1585\n",
            "Valid Cases 9\n"
          ],
          "name": "stdout"
        }
      ]
    },
    {
      "cell_type": "code",
      "metadata": {
        "id": "ozNmi_cjvQC5",
        "colab_type": "code",
        "colab": {
          "base_uri": "https://localhost:8080/",
          "height": 638
        },
        "outputId": "13ecbfd6-663d-4aee-a972-05df7ac891a9"
      },
      "source": [
        "#correlation matrix\n",
        "corrmat = data.corr()\n",
        "fig = plt.figure(figsize = (16,10))\n",
        "sns.heatmap(corrmat,vmax = 0.8,square = True)"
      ],
      "execution_count": 31,
      "outputs": [
        {
          "output_type": "execute_result",
          "data": {
            "text/plain": [
              "<matplotlib.axes._subplots.AxesSubplot at 0x7f2d678c00b8>"
            ]
          },
          "metadata": {
            "tags": []
          },
          "execution_count": 31
        },
        {
          "output_type": "display_data",
          "data": {
            "image/png": "[encoded data removed]",
            "text/plain": [
              "<Figure size 1152x720 with 2 Axes>"
            ]
          },
          "metadata": {
            "tags": []
          }
        }
      ]
    },
    {
      "cell_type": "code",
      "metadata": {
        "id": "fHjSNkjJwiZo",
        "colab_type": "code",
        "colab": {}
      },
      "source": [
        "#get all the columns from dataframe\n",
        "#columns = data.columns.to_list\n",
        "\n",
        "#filter the columns to remove the unwanted columns\n",
        "#columns = [c for c in columns if c not in ['Class']]"
      ],
      "execution_count": 0,
      "outputs": []
    },
    {
      "cell_type": "code",
      "metadata": {
        "id": "XOmBx2xxxTZI",
        "colab_type": "code",
        "colab": {
          "base_uri": "https://localhost:8080/",
          "height": 127
        },
        "outputId": "0c36c792-8fc9-4599-9b94-089b44471028"
      },
      "source": [
        "data.head(2)"
      ],
      "execution_count": 38,
      "outputs": [
        {
          "output_type": "execute_result",
          "data": {
            "text/html": [
              "<div>\n",
              "<style scoped>\n",
              "    .dataframe tbody tr th:only-of-type {\n",
              "        vertical-align: middle;\n",
              "    }\n",
              "\n",
              "    .dataframe tbody tr th {\n",
              "        vertical-align: top;\n",
              "    }\n",
              "\n",
              "    .dataframe thead th {\n",
              "        text-align: right;\n",
              "    }\n",
              "</style>\n",
              "<table border=\"1\" class=\"dataframe\">\n",
              "  <thead>\n",
              "    <tr style=\"text-align: right;\">\n",
              "      <th></th>\n",
              "      <th>Time</th>\n",
              "      <th>V1</th>\n",
              "      <th>V2</th>\n",
              "      <th>V3</th>\n",
              "      <th>V4</th>\n",
              "      <th>V5</th>\n",
              "      <th>V6</th>\n",
              "      <th>V7</th>\n",
              "      <th>V8</th>\n",
              "      <th>V9</th>\n",
              "      <th>V10</th>\n",
              "      <th>V11</th>\n",
              "      <th>V12</th>\n",
              "      <th>V13</th>\n",
              "      <th>V14</th>\n",
              "      <th>V15</th>\n",
              "      <th>V16</th>\n",
              "      <th>V17</th>\n",
              "      <th>V18</th>\n",
              "      <th>V19</th>\n",
              "      <th>V20</th>\n",
              "      <th>V21</th>\n",
              "      <th>V22</th>\n",
              "      <th>V23</th>\n",
              "      <th>V24</th>\n",
              "      <th>V25</th>\n",
              "      <th>V26</th>\n",
              "      <th>V27</th>\n",
              "      <th>V28</th>\n",
              "      <th>Amount</th>\n",
              "      <th>Class</th>\n",
              "    </tr>\n",
              "  </thead>\n",
              "  <tbody>\n",
              "    <tr>\n",
              "      <th>307</th>\n",
              "      <td>221</td>\n",
              "      <td>-1.177731</td>\n",
              "      <td>0.318501</td>\n",
              "      <td>1.727123</td>\n",
              "      <td>-0.549578</td>\n",
              "      <td>0.737292</td>\n",
              "      <td>-0.050963</td>\n",
              "      <td>0.555482</td>\n",
              "      <td>-0.041756</td>\n",
              "      <td>0.219520</td>\n",
              "      <td>-0.262389</td>\n",
              "      <td>-0.143990</td>\n",
              "      <td>-0.576367</td>\n",
              "      <td>-2.128980</td>\n",
              "      <td>0.045079</td>\n",
              "      <td>-1.132142</td>\n",
              "      <td>0.311233</td>\n",
              "      <td>-0.739914</td>\n",
              "      <td>0.326511</td>\n",
              "      <td>0.377478</td>\n",
              "      <td>-0.321357</td>\n",
              "      <td>-0.279324</td>\n",
              "      <td>-0.640571</td>\n",
              "      <td>-0.554584</td>\n",
              "      <td>-0.510508</td>\n",
              "      <td>0.403270</td>\n",
              "      <td>0.178327</td>\n",
              "      <td>-0.354579</td>\n",
              "      <td>-0.233332</td>\n",
              "      <td>25.36</td>\n",
              "      <td>0.0</td>\n",
              "    </tr>\n",
              "    <tr>\n",
              "      <th>10390</th>\n",
              "      <td>16740</td>\n",
              "      <td>1.211599</td>\n",
              "      <td>-0.254735</td>\n",
              "      <td>1.242430</td>\n",
              "      <td>0.478409</td>\n",
              "      <td>-1.209711</td>\n",
              "      <td>-0.492057</td>\n",
              "      <td>-0.831731</td>\n",
              "      <td>-0.006360</td>\n",
              "      <td>2.345568</td>\n",
              "      <td>-0.606076</td>\n",
              "      <td>0.200714</td>\n",
              "      <td>-2.732635</td>\n",
              "      <td>0.770854</td>\n",
              "      <td>1.287387</td>\n",
              "      <td>0.068777</td>\n",
              "      <td>0.384477</td>\n",
              "      <td>0.534963</td>\n",
              "      <td>0.283056</td>\n",
              "      <td>-0.255450</td>\n",
              "      <td>-0.153200</td>\n",
              "      <td>-0.086314</td>\n",
              "      <td>0.091098</td>\n",
              "      <td>-0.011576</td>\n",
              "      <td>0.383750</td>\n",
              "      <td>0.153317</td>\n",
              "      <td>1.073107</td>\n",
              "      <td>-0.070241</td>\n",
              "      <td>0.007905</td>\n",
              "      <td>15.00</td>\n",
              "      <td>0.0</td>\n",
              "    </tr>\n",
              "  </tbody>\n",
              "</table>\n",
              "</div>"
            ],
            "text/plain": [
              "        Time        V1        V2        V3  ...       V27       V28  Amount  Class\n",
              "307      221 -1.177731  0.318501  1.727123  ... -0.354579 -0.233332   25.36    0.0\n",
              "10390  16740  1.211599 -0.254735  1.242430  ... -0.070241  0.007905   15.00    0.0\n",
              "\n",
              "[2 rows x 31 columns]"
            ]
          },
          "metadata": {
            "tags": []
          },
          "execution_count": 38
        }
      ]
    },
    {
      "cell_type": "code",
      "metadata": {
        "id": "3jA_wfTvx3yw",
        "colab_type": "code",
        "colab": {}
      },
      "source": [
        "X = data.iloc[:,0:30]\n",
        "y = data.iloc[:,-1:]"
      ],
      "execution_count": 0,
      "outputs": []
    },
    {
      "cell_type": "code",
      "metadata": {
        "id": "82xEgEETx7qR",
        "colab_type": "code",
        "colab": {
          "base_uri": "https://localhost:8080/",
          "height": 70
        },
        "outputId": "14819a97-5e6c-46a1-d878-51fefe5c6ad0"
      },
      "source": [
        "print(X.shape);print();print(y.shape)"
      ],
      "execution_count": 64,
      "outputs": [
        {
          "output_type": "stream",
          "text": [
            "(1594, 30)\n",
            "\n",
            "(1594, 1)\n"
          ],
          "name": "stdout"
        }
      ]
    },
    {
      "cell_type": "code",
      "metadata": {
        "id": "yZ2hPKNrya9n",
        "colab_type": "code",
        "colab": {}
      },
      "source": [
        "#X_train,X_test,y_train,y_test = train_test_split(X,y, test_size = 0.2)"
      ],
      "execution_count": 0,
      "outputs": []
    },
    {
      "cell_type": "code",
      "metadata": {
        "id": "1ermEz53zgh8",
        "colab_type": "code",
        "colab": {
          "base_uri": "https://localhost:8080/",
          "height": 478
        },
        "outputId": "bf55b153-adec-489f-a40e-b0229825db05"
      },
      "source": [
        "# define the oulier detection methods\n",
        "classifiers = {\n",
        "    \"Isolation Forest\": IsolationForest(max_samples=len(X),contamination=outlier_fraction, random_state=1),\n",
        "    'Local Outlier Factor': LocalOutlierFactor(n_neighbors=20,contamination=outlier_fraction)\n",
        "}\n",
        "\n",
        "# Fit the model\n",
        "n_outlier = len(fraud_cases)\n",
        "\n",
        "for i, (clf_name,clf) in enumerate (classifiers.items()):\n",
        "  #fit the data and tag outliers\n",
        "  if clf_name == \"Local Outlier Factor\":\n",
        "    y_prediction = clf.predict(X)\n",
        "    score_predit = clf.negative_outlier_factor_\n",
        "  else:\n",
        "    clf.fit(X)\n",
        "    score_predit = clf.decision_fucntion(X)\n",
        "    y_prediction =  clf.predict(X)"
      ],
      "execution_count": 66,
      "outputs": [
        {
          "output_type": "stream",
          "text": [
            "/usr/local/lib/python3.6/dist-packages/sklearn/ensemble/iforest.py:247: FutureWarning: behaviour=\"old\" is deprecated and will be removed in version 0.22. Please use behaviour=\"new\", which makes the decision_function change to match other anomaly detection algorithm API.\n",
            "  FutureWarning)\n"
          ],
          "name": "stderr"
        },
        {
          "output_type": "error",
          "ename": "ValueError",
          "evalue": "ignored",
          "traceback": [
            "\u001b[0;31m---------------------------------------------------------------------------\u001b[0m",
            "\u001b[0;31mValueError\u001b[0m                                Traceback (most recent call last)",
            "\u001b[0;32m<ipython-input-66-ab5bf57c1047>\u001b[0m in \u001b[0;36m<module>\u001b[0;34m()\u001b[0m\n\u001b[1;32m     13\u001b[0m     \u001b[0mscore_predit\u001b[0m \u001b[0;34m=\u001b[0m \u001b[0mclf\u001b[0m\u001b[0;34m.\u001b[0m\u001b[0mnegative_outlier_factor_\u001b[0m\u001b[0;34m\u001b[0m\u001b[0;34m\u001b[0m\u001b[0m\n\u001b[1;32m     14\u001b[0m   \u001b[0;32melse\u001b[0m\u001b[0;34m:\u001b[0m\u001b[0;34m\u001b[0m\u001b[0;34m\u001b[0m\u001b[0m\n\u001b[0;32m---> 15\u001b[0;31m     \u001b[0mclf\u001b[0m\u001b[0;34m.\u001b[0m\u001b[0mfit\u001b[0m\u001b[0;34m(\u001b[0m\u001b[0mX\u001b[0m\u001b[0;34m)\u001b[0m\u001b[0;34m\u001b[0m\u001b[0;34m\u001b[0m\u001b[0m\n\u001b[0m\u001b[1;32m     16\u001b[0m     \u001b[0mscore_predit\u001b[0m \u001b[0;34m=\u001b[0m \u001b[0mclf\u001b[0m\u001b[0;34m.\u001b[0m\u001b[0mdecision_fucntion\u001b[0m\u001b[0;34m(\u001b[0m\u001b[0mX\u001b[0m\u001b[0;34m)\u001b[0m\u001b[0;34m\u001b[0m\u001b[0;34m\u001b[0m\u001b[0m\n\u001b[1;32m     17\u001b[0m     \u001b[0my_prediction\u001b[0m \u001b[0;34m=\u001b[0m  \u001b[0mclf\u001b[0m\u001b[0;34m.\u001b[0m\u001b[0mpredict\u001b[0m\u001b[0;34m(\u001b[0m\u001b[0mX\u001b[0m\u001b[0;34m)\u001b[0m\u001b[0;34m\u001b[0m\u001b[0;34m\u001b[0m\u001b[0m\n",
            "\u001b[0;32m/usr/local/lib/python3.6/dist-packages/sklearn/ensemble/iforest.py\u001b[0m in \u001b[0;36mfit\u001b[0;34m(self, X, y, sample_weight)\u001b[0m\n\u001b[1;32m    296\u001b[0m             \u001b[0mself\u001b[0m\u001b[0;34m.\u001b[0m\u001b[0moffset_\u001b[0m \u001b[0;34m=\u001b[0m \u001b[0;34m-\u001b[0m\u001b[0;36m0.5\u001b[0m\u001b[0;34m\u001b[0m\u001b[0;34m\u001b[0m\u001b[0m\n\u001b[1;32m    297\u001b[0m             self._threshold_ = np.percentile(self.decision_function(X),\n\u001b[0;32m--> 298\u001b[0;31m                                              100. * self._contamination)\n\u001b[0m\u001b[1;32m    299\u001b[0m \u001b[0;34m\u001b[0m\u001b[0m\n\u001b[1;32m    300\u001b[0m             \u001b[0;32mreturn\u001b[0m \u001b[0mself\u001b[0m\u001b[0;34m\u001b[0m\u001b[0;34m\u001b[0m\u001b[0m\n",
            "\u001b[0;32m<__array_function__ internals>\u001b[0m in \u001b[0;36mpercentile\u001b[0;34m(*args, **kwargs)\u001b[0m\n",
            "\u001b[0;32m/usr/local/lib/python3.6/dist-packages/numpy/lib/function_base.py\u001b[0m in \u001b[0;36mpercentile\u001b[0;34m(a, q, axis, out, overwrite_input, interpolation, keepdims)\u001b[0m\n\u001b[1;32m   3709\u001b[0m     \u001b[0mq\u001b[0m \u001b[0;34m=\u001b[0m \u001b[0masanyarray\u001b[0m\u001b[0;34m(\u001b[0m\u001b[0mq\u001b[0m\u001b[0;34m)\u001b[0m  \u001b[0;31m# undo any decay that the ufunc performed (see gh-13105)\u001b[0m\u001b[0;34m\u001b[0m\u001b[0;34m\u001b[0m\u001b[0m\n\u001b[1;32m   3710\u001b[0m     \u001b[0;32mif\u001b[0m \u001b[0;32mnot\u001b[0m \u001b[0m_quantile_is_valid\u001b[0m\u001b[0;34m(\u001b[0m\u001b[0mq\u001b[0m\u001b[0;34m)\u001b[0m\u001b[0;34m:\u001b[0m\u001b[0;34m\u001b[0m\u001b[0;34m\u001b[0m\u001b[0m\n\u001b[0;32m-> 3711\u001b[0;31m         \u001b[0;32mraise\u001b[0m \u001b[0mValueError\u001b[0m\u001b[0;34m(\u001b[0m\u001b[0;34m\"Percentiles must be in the range [0, 100]\"\u001b[0m\u001b[0;34m)\u001b[0m\u001b[0;34m\u001b[0m\u001b[0;34m\u001b[0m\u001b[0m\n\u001b[0m\u001b[1;32m   3712\u001b[0m     return _quantile_unchecked(\n\u001b[1;32m   3713\u001b[0m         a, q, axis, out, overwrite_input, interpolation, keepdims)\n",
            "\u001b[0;31mValueError\u001b[0m: Percentiles must be in the range [0, 100]"
          ]
        }
      ]
    },
    {
      "cell_type": "code",
      "metadata": {
        "id": "XuFP6tcy4Czu",
        "colab_type": "code",
        "colab": {
          "base_uri": "https://localhost:8080/",
          "height": 196
        },
        "outputId": "b2643613-936c-4f5f-916e-2e4743be69b2"
      },
      "source": [
        "##Logistic Regression\n",
        "\n",
        "X_train,X_test,y_train,y_test = train_test_split(X,y, test_size = 0.2)\n",
        "from sklearn.linear_model import LogisticRegression\n",
        "\n",
        "logg_reg_model = LogisticRegression()\n",
        "logg_reg_model.fit(X_train,y_train)\n"
      ],
      "execution_count": 68,
      "outputs": [
        {
          "output_type": "stream",
          "text": [
            "/usr/local/lib/python3.6/dist-packages/sklearn/linear_model/logistic.py:432: FutureWarning: Default solver will be changed to 'lbfgs' in 0.22. Specify a solver to silence this warning.\n",
            "  FutureWarning)\n",
            "/usr/local/lib/python3.6/dist-packages/sklearn/utils/validation.py:724: DataConversionWarning: A column-vector y was passed when a 1d array was expected. Please change the shape of y to (n_samples, ), for example using ravel().\n",
            "  y = column_or_1d(y, warn=True)\n"
          ],
          "name": "stderr"
        },
        {
          "output_type": "execute_result",
          "data": {
            "text/plain": [
              "LogisticRegression(C=1.0, class_weight=None, dual=False, fit_intercept=True,\n",
              "                   intercept_scaling=1, l1_ratio=None, max_iter=100,\n",
              "                   multi_class='warn', n_jobs=None, penalty='l2',\n",
              "                   random_state=None, solver='warn', tol=0.0001, verbose=0,\n",
              "                   warm_start=False)"
            ]
          },
          "metadata": {
            "tags": []
          },
          "execution_count": 68
        }
      ]
    },
    {
      "cell_type": "code",
      "metadata": {
        "id": "I3dmeuaO6a-x",
        "colab_type": "code",
        "colab": {}
      },
      "source": [
        "y_logreg_prediction = logg_reg_model.predict(X_test)\n",
        "y_logreg_prediction_prob = logg_reg_model.predict_proba(X_test)[:,1]"
      ],
      "execution_count": 0,
      "outputs": []
    },
    {
      "cell_type": "code",
      "metadata": {
        "id": "R_QAvBBF6tvr",
        "colab_type": "code",
        "colab": {
          "base_uri": "https://localhost:8080/",
          "height": 416
        },
        "outputId": "5d7e2d55-e182-4be1-d35f-49768a5ae427"
      },
      "source": [
        "#Performance metrics evaluation\n",
        "print(\"Confusion Martix:\\t {}\".format(confusion_matrix(y_test,y_logreg_prediction)))\n",
        "print(\"Accuracy \\t {}\".format(accuracy_score(y_test,y_logreg_prediction)))\n",
        "print(\"Precision:\\t\".format(precision_score(y_test,y_logreg_prediction)))\n",
        "print(\"Recall:\\t {}\".format(recall_score(y_test,y_logreg_prediction)))\n",
        "print(\"AUC:\\t {}\".format(roc_auc_score(y_test,y_logreg_prediction_prob)))\n",
        "auc=roc_auc_score(y_test,y_logreg_prediction_prob)\n",
        "\n",
        "\n",
        "#Ploting the ROC curve\n",
        "fpr,tpr, thresholds = roc_curve(y_test,y_logreg_prediction_prob)\n",
        "plt.plot(fpr,tpr,'b', label='AUC = %0.2f'% auc)\n",
        "plt.plot([0,1],[0,1],'r-.')\n",
        "plt.xlim([-0.2,1.2])\n",
        "plt.ylim([-0.2,1.2])\n",
        "plt.title('Receiver Operating Characteristic\\nLogistic Regression')\n",
        "plt.legend(loc='lower right')\n",
        "plt.ylabel('True Positive Rate')\n",
        "plt.xlabel('False Positive Rate')\n",
        "plt.show()"
      ],
      "execution_count": 76,
      "outputs": [
        {
          "output_type": "stream",
          "text": [
            "Confusion Martix:\t [[317   0]\n",
            " [  1   1]]\n",
            "Accuracy \t 0.9968652037617555\n",
            "Precision:\t\n",
            "Recall:\t 0.5\n",
            "AUC:\t 0.7476340694006309\n"
          ],
          "name": "stdout"
        },
        {
          "output_type": "display_data",
          "data": {
            "image/png": "[encoded data removed]",
            "text/plain": [
              "<Figure size 432x288 with 1 Axes>"
            ]
          },
          "metadata": {
            "tags": []
          }
        }
      ]
    },
    {
      "cell_type": "code",
      "metadata": {
        "id": "DIaDtBnp88pK",
        "colab_type": "code",
        "colab": {}
      },
      "source": [
        ""
      ],
      "execution_count": 0,
      "outputs": []
    },
    {
      "cell_type": "markdown",
      "metadata": {
        "id": "mC6ijXX-9a3b",
        "colab_type": "text"
      },
      "source": [
        "**#K Nearest Neighbors**"
      ]
    },
    {
      "cell_type": "code",
      "metadata": {
        "id": "6vza3Bk79eNy",
        "colab_type": "code",
        "colab": {
          "base_uri": "https://localhost:8080/",
          "height": 72
        },
        "outputId": "284a2529-587e-440c-ded6-723c57ce7dbb"
      },
      "source": [
        "from sklearn.neighbors import KNeighborsClassifier\n",
        "\n",
        "knn = KNeighborsClassifier(n_neighbors=5)\n",
        "knn.fit(X_train,y_train)\n",
        "y_knn_predict = knn.predict(X_test)\n",
        "y_knn_predict_prob = knn.predict_proba(X_test)[:,1]\n"
      ],
      "execution_count": 79,
      "outputs": [
        {
          "output_type": "stream",
          "text": [
            "/usr/local/lib/python3.6/dist-packages/ipykernel_launcher.py:4: DataConversionWarning: A column-vector y was passed when a 1d array was expected. Please change the shape of y to (n_samples, ), for example using ravel().\n",
            "  after removing the cwd from sys.path.\n"
          ],
          "name": "stderr"
        }
      ]
    },
    {
      "cell_type": "code",
      "metadata": {
        "id": "H-MUsGhc-M26",
        "colab_type": "code",
        "colab": {
          "base_uri": "https://localhost:8080/",
          "height": 431
        },
        "outputId": "d8c6a13e-3a4f-4026-da34-38386ae41eed"
      },
      "source": [
        "#metrics evaluation\n",
        "print('Confusion Matrix \\t{}'.format(confusion_matrix(y_test,y_knn_predict)))\n",
        "print(\"Accuracy \\t{}\".format(accuracy_score(y_test,y_knn_predict)))\n",
        "print(\"Precision:\\t\".format(precision_score(y_test,y_knn_predict)))\n",
        "print(\"Recall:\\t {}\".format(recall_score(y_test,y_knn_predict)))\n",
        "print(\"AUC:\\t {}\".format(roc_auc_score(y_test,y_knn_predict_prob)))\n",
        "\n",
        "#ploting the ROC curve\n",
        "fpr,tpr, thresholds = roc_curve(y_test,y_knn_predict_prob)\n",
        "plt.plot(fpr,tpr)\n",
        "plt.xlim([0.0,1.0])\n",
        "plt.ylim([0.0,1.0])\n",
        "plt.show()\n"
      ],
      "execution_count": 83,
      "outputs": [
        {
          "output_type": "stream",
          "text": [
            "Confusion Matrix \t[[317   0]\n",
            " [  2   0]]\n",
            "Accuracy \t0.9937304075235109\n",
            "Precision:\t\n",
            "Recall:\t 0.0\n",
            "AUC:\t 0.49369085173501576\n"
          ],
          "name": "stdout"
        },
        {
          "output_type": "stream",
          "text": [
            "/usr/local/lib/python3.6/dist-packages/sklearn/metrics/classification.py:1437: UndefinedMetricWarning: Precision is ill-defined and being set to 0.0 due to no predicted samples.\n",
            "  'precision', 'predicted', average, warn_for)\n"
          ],
          "name": "stderr"
        },
        {
          "output_type": "display_data",
          "data": {
            "image/png": "[encoded data removed]",
            "text/plain": [
              "<Figure size 432x288 with 1 Axes>"
            ]
          },
          "metadata": {
            "tags": []
          }
        }
      ]
    },
    {
      "cell_type": "code",
      "metadata": {
        "id": "0FnNtYYE_ovW",
        "colab_type": "code",
        "colab": {}
      },
      "source": [
        ""
      ],
      "execution_count": 0,
      "outputs": []
    },
    {
      "cell_type": "markdown",
      "metadata": {
        "id": "eZW9yXZXAgvI",
        "colab_type": "text"
      },
      "source": [
        "**Random Forest Classifier**"
      ]
    },
    {
      "cell_type": "code",
      "metadata": {
        "id": "8HQk5bVSAmAj",
        "colab_type": "code",
        "colab": {
          "base_uri": "https://localhost:8080/",
          "height": 232
        },
        "outputId": "0cee3513-037f-4ccb-f172-955f877270ef"
      },
      "source": [
        "from sklearn.ensemble import RandomForestClassifier\n",
        "rfc = RandomForestClassifier()\n",
        "rfc.fit(X_train,y_train)"
      ],
      "execution_count": 84,
      "outputs": [
        {
          "output_type": "stream",
          "text": [
            "/usr/local/lib/python3.6/dist-packages/sklearn/ensemble/forest.py:245: FutureWarning: The default value of n_estimators will change from 10 in version 0.20 to 100 in 0.22.\n",
            "  \"10 in version 0.20 to 100 in 0.22.\", FutureWarning)\n",
            "/usr/local/lib/python3.6/dist-packages/ipykernel_launcher.py:3: DataConversionWarning: A column-vector y was passed when a 1d array was expected. Please change the shape of y to (n_samples,), for example using ravel().\n",
            "  This is separate from the ipykernel package so we can avoid doing imports until\n"
          ],
          "name": "stderr"
        },
        {
          "output_type": "execute_result",
          "data": {
            "text/plain": [
              "RandomForestClassifier(bootstrap=True, class_weight=None, criterion='gini',\n",
              "                       max_depth=None, max_features='auto', max_leaf_nodes=None,\n",
              "                       min_impurity_decrease=0.0, min_impurity_split=None,\n",
              "                       min_samples_leaf=1, min_samples_split=2,\n",
              "                       min_weight_fraction_leaf=0.0, n_estimators=10,\n",
              "                       n_jobs=None, oob_score=False, random_state=None,\n",
              "                       verbose=0, warm_start=False)"
            ]
          },
          "metadata": {
            "tags": []
          },
          "execution_count": 84
        }
      ]
    },
    {
      "cell_type": "code",
      "metadata": {
        "id": "8Z462PpUBArm",
        "colab_type": "code",
        "colab": {}
      },
      "source": [
        "y_rfc_predict = rfc.predict(X_test)"
      ],
      "execution_count": 0,
      "outputs": []
    },
    {
      "cell_type": "code",
      "metadata": {
        "id": "KeASO-QWBKKX",
        "colab_type": "code",
        "colab": {}
      },
      "source": [
        "y_rfc_predict_prob = rfc.predict_proba(X_test)[:,1]"
      ],
      "execution_count": 0,
      "outputs": []
    },
    {
      "cell_type": "code",
      "metadata": {
        "id": "7XalTbvzBUss",
        "colab_type": "code",
        "colab": {
          "base_uri": "https://localhost:8080/",
          "height": 123
        },
        "outputId": "d06b94e4-fee0-423b-cb97-afc56244b5b5"
      },
      "source": [
        "#Performance metrics evaluation\n",
        "print(\"Confusion Matrix \\t{}\".format(confusion_matrix(y_test,y_rfc_predict)))\n",
        "print(\"Accuracy \\t{}\".format(accuracy_score(y_test,y_rfc_predict)))\n",
        "print(\"Precission \\t{}\".format(precision_score(y_test,y_rfc_predict)))\n",
        "print(\"Recall \\t{}\".format(recall_score(y_test,y_rfc_predict)))\n",
        "print(\"AUC \\t{}\".format(roc_auc_score(y_test,y_rfc_predict_prob)))\n",
        "auc = roc_auc_score(y_test,y_rfc_predict_prob)"
      ],
      "execution_count": 90,
      "outputs": [
        {
          "output_type": "stream",
          "text": [
            "Confusion Matrix \t[[317   0]\n",
            " [  1   1]]\n",
            "Accuracy \t0.9968652037617555\n",
            "Precission \t1.0\n",
            "Recall \t0.5\n",
            "AUC \t0.7460567823343848\n"
          ],
          "name": "stdout"
        }
      ]
    },
    {
      "cell_type": "code",
      "metadata": {
        "id": "QqqHxrorCAHH",
        "colab_type": "code",
        "colab": {
          "base_uri": "https://localhost:8080/",
          "height": 294
        },
        "outputId": "cc6ae672-5ee8-4d9c-ea97-fb55bf4daafc"
      },
      "source": [
        "#Plotting the ROC curve\n",
        "fpr,tpr,thresholds = roc_curve(y_test,y_rfc_predict)\n",
        "plt.plot(fpr,tpr,'b',label ='AUC=%0.2f'% auc)\n",
        "plt.plot([0,1],[0,1],'r-.')\n",
        "plt.xlim([-0.2,1.2])\n",
        "plt.ylim([-0.2,1.2])\n",
        "plt.title(\"Receiver Operating Charecreristic Random Forest\")\n",
        "plt.xlabel(\"False Positive Rate\")\n",
        "plt.ylabel(\"True Positive Rate\")\n",
        "plt.legend(loc=\"lower right\")\n",
        "plt.show()"
      ],
      "execution_count": 91,
      "outputs": [
        {
          "output_type": "display_data",
          "data": {
            "image/png": "[encoded data removed]",
            "text/plain": [
              "<Figure size 432x288 with 1 Axes>"
            ]
          },
          "metadata": {
            "tags": []
          }
        }
      ]
    },
    {
      "cell_type": "code",
      "metadata": {
        "id": "5SV444WLDvz6",
        "colab_type": "code",
        "colab": {}
      },
      "source": [
        ""
      ],
      "execution_count": 0,
      "outputs": []
    }
  ]
}